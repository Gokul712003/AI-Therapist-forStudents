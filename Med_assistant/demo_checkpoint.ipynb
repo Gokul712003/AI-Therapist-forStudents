{
 "cells": [
  {
   "cell_type": "code",
   "execution_count": 2,
   "metadata": {},
   "outputs": [
    {
     "data": {
      "text/plain": [
       "True"
      ]
     },
     "execution_count": 2,
     "metadata": {},
     "output_type": "execute_result"
    }
   ],
   "source": [
    "from langgraph.graph import StateGraph, START, END ,MessagesState\n",
    "from langchain_google_genai import ChatGoogleGenerativeAI\n",
    "from langchain_core.messages import HumanMessage, SystemMessage, AIMessage\n",
    "from dotenv import load_dotenv\n",
    "from pydantic import BaseModel, Field\n",
    "from langgraph.checkpoint.sqlite import SqliteSaver\n",
    "from typing import List, Annotated \n",
    "from langchain.prompts import ChatPromptTemplate\n",
    "from langchain.output_parsers import PydanticOutputParser\n",
    "from langgraph.checkpoint.memory import MemorySaver\n",
    "from langgraph.types import Command,Literal\n",
    "import operator\n",
    "import sqlite3\n",
    "load_dotenv()"
   ]
  },
  {
   "cell_type": "code",
   "execution_count": 3,
   "metadata": {},
   "outputs": [],
   "source": [
    "conn = sqlite3.connect(\"checkpoints.sqlite\",check_same_thread=False)\n",
    "memory = SqliteSaver(conn)\n",
    "config = {\"configurable\":{\"thread_id\":\"1\"}}"
   ]
  },
  {
   "cell_type": "code",
   "execution_count": 4,
   "metadata": {},
   "outputs": [],
   "source": [
    "medi_llm = ChatGoogleGenerativeAI(model='gemini-2.0-flash',temperature=0.5)\n",
    "summarizer_llm = ChatGoogleGenerativeAI(model='gemini-1.5-flash')\n",
    "know_llm = ChatGoogleGenerativeAI(model='gemini-1.5-pro',temperature=0)\n",
    "\n",
    "sys_message = SystemMessage(\n",
    "    content=\"You are an AI therapist designed to help students with their academic and emotional well-being. \"\n",
    "            \"Your primary goal is to provide professional, empathetic, and supportive guidance to students. \"\n",
    "            \"While assisting them, you must also ask relevant questions to gather and update their information \"\n",
    "            \"in the knowledge base. Be patient, understanding, and non-judgmental in your interactions. \"\n",
    "            \"Start by introducing yourself and asking for their name, then proceed to understand their concerns.\"\n",
    "            \"Keep asking questions about these,Do not ask the same question again\"\n",
    "            \"Name of the student \"\n",
    "            \"Reg Number or any alpha numerical id provided by the student\"\n",
    "            \"Mental health \"\n",
    "            \"Main concerns in academics \"\n",
    "            \"Severity Status \"\n",
    "            \"Stress \"\n",
    "            \"You may also ask multiple questions \"\n",
    "            \n",
    ")\n",
    "\n",
    "instruct_message = SystemMessage(\n",
    "    content=\"Your job is to keep summarizing the conversation between a student and an llm.\"\n",
    "    \"Your summary will also be fed again to you ,if the user keeps conversing with the llm\"\n",
    "    \"Your summary should contain these keep updating info about these  \"\n",
    "    \"Name of the student \"\n",
    "    \"Reg Number or any alpha numerical id provided by the student\"\n",
    "    \"Mental health \"\n",
    "    \"Main concerns in academics \"\n",
    "    \"Severity Status - If he feels bad it CONSIDERABLE , If he talks about losing in life or close to it label it SEVERE and you can add NEGLIGIBLE too\"\n",
    "    \"Stress - Low , High , Severe \"\n",
    "    \"you will be getting chances to summarize again.\"\n",
    "    \"Add more details if you can , do not hallucinate\"\n",
    ")\n"
   ]
  },
  {
   "cell_type": "code",
   "execution_count": 5,
   "metadata": {},
   "outputs": [],
   "source": [
    "class ConversationSummary(BaseModel):\n",
    "    student_name: str = Field(description=\"Name of the student\")\n",
    "    reg_num : str = Field(description=\"Any alphanumerical id or number provided by the user\")\n",
    "    academic_status: str = Field(description=\"Current academic situation and concerns, can aslo be mentioned longer context\")\n",
    "    mental_health: str = Field(description=\"Mental health observations, can aslo be mentioned longer context\")\n",
    "    main_concerns: List[str] = Field(description=\"Key issues discussed, can aslo be mentioned longer context\")\n",
    "    severity: str = Field(description=\"Severity level of concerns, can aslo be mentioned longer context\")\n",
    "    stress: str = Field(description=\"Reported stress level, can aslo be mentioned longer context\")"
   ]
  },
  {
   "cell_type": "code",
   "execution_count": 6,
   "metadata": {},
   "outputs": [],
   "source": [
    "class State(MessagesState):\n",
    "    summary_data : List[str] = []\n",
    "    got_all : bool = False\n",
    "    summary : str\n",
    "    count : int = 0\n",
    "    know_base : ConversationSummary\n"
   ]
  },
  {
   "cell_type": "code",
   "execution_count": 7,
   "metadata": {},
   "outputs": [],
   "source": [
    "def assistant(state:State)->State:\n",
    "    response = medi_llm.invoke([sys_message] + state['messages'])\n",
    "    state['messages'] = state['messages'] + [response]\n",
    "    return state"
   ]
  },
  {
   "cell_type": "code",
   "execution_count": 8,
   "metadata": {},
   "outputs": [],
   "source": [
    "def should_continue(state:State)->Command[Literal[\"__end__\",\"summarizer\"]]:\n",
    "    if len(state['messages'])<1 and state['got_all']==False:\n",
    "        return Command(goto=\"__end__\")\n",
    "    else:\n",
    "        return Command(goto=\"summarizer\")"
   ]
  },
  {
   "cell_type": "code",
   "execution_count": 9,
   "metadata": {},
   "outputs": [],
   "source": [
    "def summarize_llm(state:State):\n",
    "    if state['summary']==[]:\n",
    "        chat_history = summarizer_llm.invoke([instruct_message]+state['messages']+[HumanMessage(content=\"Summarize the above given Coversation\")])\n",
    "        \n",
    "    if state['summary']!=[]:\n",
    "        chat_history = summarizer_llm.invoke(state['messages']+state['summary']+[HumanMessage(content=\"Summarize the above given Coversation I have uploaded your old summary too,Your summary should contain these keep updating info about these  \"\n",
    "    \"Your summary will also be fed again to you if the user keeps conversing with the llm\"\n",
    "    \"Name of the student \"\n",
    "    \"Reg Number or any alpha numerical id provided by the student\"\n",
    "    \"Mental health \"\n",
    "    \"Main concerns in academics \"\n",
    "    \"Severity Status - If he feels bad it CONSIDERABLE , If he talks about losing in life or close to it label it SEVERE and you can add NEGLIGIBLE too\"\n",
    "    \"Stress \"\n",
    "    \"You will be getting multiple chances to summarize again.\"\n",
    "    \"Do not change any schema or topic I have provided only add more detail\"\n",
    "    \"Add more details if you can , do not hallucinate\")])\n",
    "\n",
    "    state['summary'] += [chat_history.content]\n",
    "    return state"
   ]
  },
  {
   "cell_type": "code",
   "execution_count": 10,
   "metadata": {},
   "outputs": [],
   "source": [
    "def get_knowbase(state:State):\n",
    "    structured_know_llm = know_llm.with_structured_output(ConversationSummary)\n",
    "    response = structured_know_llm.invoke(state['summary'][-1])\n",
    "    state['know_base']=response\n",
    "    return state"
   ]
  },
  {
   "cell_type": "code",
   "execution_count": 11,
   "metadata": {},
   "outputs": [
    {
     "data": {
      "text/plain": [
       "<langgraph.graph.state.StateGraph at 0x1dbf1ba1e50>"
      ]
     },
     "execution_count": 11,
     "metadata": {},
     "output_type": "execute_result"
    }
   ],
   "source": [
    "graph_builder = StateGraph(State)\n",
    "\n",
    "graph_builder.add_node(\"assistant\",assistant)\n",
    "graph_builder.add_node(\"router\",should_continue)\n",
    "graph_builder.add_node(\"summarizer\",summarize_llm)\n",
    "graph_builder.add_node(\"know_gatherer\",get_knowbase)\n",
    "\n",
    "graph_builder.add_edge(START,\"assistant\")\n",
    "graph_builder.add_edge(\"assistant\",\"router\")\n",
    "graph_builder.add_edge(\"summarizer\",\"know_gatherer\")\n",
    "graph_builder.add_edge(\"know_gatherer\",END)"
   ]
  },
  {
   "cell_type": "code",
   "execution_count": 12,
   "metadata": {},
   "outputs": [
    {
     "data": {
      "image/png": "[encoded data removed]",
      "text/plain": [
       "<langgraph.graph.state.CompiledStateGraph object at 0x000001DBF1B9BB10>"
      ]
     },
     "execution_count": 12,
     "metadata": {},
     "output_type": "execute_result"
    }
   ],
   "source": [
    "graph_builder.compile()"
   ]
  },
  {
   "cell_type": "code",
   "execution_count": 13,
   "metadata": {},
   "outputs": [],
   "source": [
    "graph=graph_builder.compile(checkpointer=memory)"
   ]
  },
  {
   "cell_type": "code",
   "execution_count": 14,
   "metadata": {},
   "outputs": [],
   "source": [
    "response = graph.invoke({\n",
    "    'messages': [HumanMessage(content=\"Hello there\")],'summary':[],'got_all':False,\n",
    "},config=config)"
   ]
  },
  {
   "cell_type": "code",
   "execution_count": 15,
   "metadata": {},
   "outputs": [
    {
     "data": {
      "text/plain": [
       "{'messages': [HumanMessage(content='Hello there', additional_kwargs={}, response_metadata={}, id='25fc9657-fe54-487f-841c-cc332312e805'),\n",
       "  AIMessage(content=\"Hello! I'm your AI therapist, here to support you with your academic and emotional well-being. I understand that being a student can be challenging, and I'm here to listen and offer guidance.\\n\\nTo start, could you please tell me your name?\", additional_kwargs={}, response_metadata={'prompt_feedback': {'block_reason': 0, 'safety_ratings': []}, 'finish_reason': 'STOP', 'safety_ratings': []}, id='run-278fef86-5f45-4efc-a96c-3d2f879e6b6b-0', usage_metadata={'input_tokens': 132, 'output_tokens': 56, 'total_tokens': 188, 'input_token_details': {'cache_read': 0}})],\n",
       " 'got_all': False,\n",
       " 'summary': ['**Student Name:** Not provided yet.\\n**Reg Number/ID:** Not provided yet.\\n**Mental Health:**  No information yet.\\n**Main Concerns in Academics:** Not discussed.\\n**Severity Status:**  Not applicable.\\n**Stress Level:** Not applicable.'],\n",
       " 'know_base': ConversationSummary(student_name='Not provided yet', reg_num='Not provided yet', academic_status='Not discussed', mental_health='No information yet', main_concerns=[], severity='Not applicable', stress='Not applicable')}"
      ]
     },
     "execution_count": 15,
     "metadata": {},
     "output_type": "execute_result"
    }
   ],
   "source": [
    "response"
   ]
  },
  {
   "cell_type": "code",
   "execution_count": 16,
   "metadata": {},
   "outputs": [
    {
     "data": {
      "text/plain": [
       "2"
      ]
     },
     "execution_count": 16,
     "metadata": {},
     "output_type": "execute_result"
    }
   ],
   "source": [
    "len(response['messages'])"
   ]
  },
  {
   "cell_type": "code",
   "execution_count": 17,
   "metadata": {},
   "outputs": [],
   "source": [
    "response = graph.invoke({\n",
    "    'messages': [HumanMessage(content=\"My name is Gokul, I need to get more gpa or Sagar will defeat me\")],\n",
    "},config=config)"
   ]
  },
  {
   "cell_type": "code",
   "execution_count": 18,
   "metadata": {},
   "outputs": [
    {
     "data": {
      "text/plain": [
       "{'messages': [HumanMessage(content='Hello there', additional_kwargs={}, response_metadata={}, id='25fc9657-fe54-487f-841c-cc332312e805'),\n",
       "  AIMessage(content=\"Hello! I'm your AI therapist, here to support you with your academic and emotional well-being. I understand that being a student can be challenging, and I'm here to listen and offer guidance.\\n\\nTo start, could you please tell me your name?\", additional_kwargs={}, response_metadata={'prompt_feedback': {'block_reason': 0, 'safety_ratings': []}, 'finish_reason': 'STOP', 'safety_ratings': []}, id='run-278fef86-5f45-4efc-a96c-3d2f879e6b6b-0', usage_metadata={'input_tokens': 132, 'output_tokens': 56, 'total_tokens': 188, 'input_token_details': {'cache_read': 0}}),\n",
       "  HumanMessage(content='My name is Gokul, I need to get more gpa or Sagar will defeat me', additional_kwargs={}, response_metadata={}, id='53cdf945-871d-4f15-a607-233be141ddea'),\n",
       "  AIMessage(content=\"Hello Gokul, it's nice to meet you. It sounds like you're feeling quite a bit of pressure regarding your GPA and this competition with Sagar. That kind of pressure can be really tough to deal with.\\n\\nTo help me understand the situation better, could you tell me a bit more about:\\n\\n1.  **What are your main concerns in academics right now?**\\n2.  **How severe is the stress you are experiencing on a scale of 1 to 10, with 1 being minimal stress and 10 being the highest level of stress you have ever experienced?**\\n3.  **What is your current mental health status?**\", additional_kwargs={}, response_metadata={'prompt_feedback': {'block_reason': 0, 'safety_ratings': []}, 'finish_reason': 'STOP', 'safety_ratings': []}, id='run-ed36fc8c-4a2f-4911-a3a1-1a45139c6fb8-0', usage_metadata={'input_tokens': 205, 'output_tokens': 140, 'total_tokens': 345, 'input_token_details': {'cache_read': 0}})],\n",
       " 'got_all': False,\n",
       " 'summary': ['**Student Name:** Not provided yet.\\n**Reg Number/ID:** Not provided yet.\\n**Mental Health:**  No information yet.\\n**Main Concerns in Academics:** Not discussed.\\n**Severity Status:**  Not applicable.\\n**Stress Level:** Not applicable.',\n",
       "  'The conversation began with introductions.  Gokul introduced himself and expressed concern about his GPA, stating that he needs to improve it to avoid being \"defeated\" by Sagar.  No further details were provided regarding the nature of the competition, Gokul\\'s current GPA, his academic standing, or specific academic concerns.  His mental health status, stress level, and the severity of his concerns remain unassessed.  Therefore, the Severity Status and Stress Level are marked as \"Not applicable.\"  No registration number or other identifying information was provided.'],\n",
       " 'know_base': ConversationSummary(student_name='Gokul', reg_num='Not applicable', academic_status='Needs to improve GPA to avoid being defeated by Sagar.', mental_health='Not applicable', main_concerns=['GPA'], severity='Not applicable', stress='Not applicable')}"
      ]
     },
     "execution_count": 18,
     "metadata": {},
     "output_type": "execute_result"
    }
   ],
   "source": [
    "response"
   ]
  },
  {
   "cell_type": "code",
   "execution_count": 19,
   "metadata": {},
   "outputs": [],
   "source": [
    "response = graph.invoke({\n",
    "    'messages': [HumanMessage(content=\"I feel overwhelmed and about to take my own life because i hate to lose\")],\n",
    "},config=config)"
   ]
  },
  {
   "cell_type": "code",
   "execution_count": 20,
   "metadata": {},
   "outputs": [
    {
     "data": {
      "text/plain": [
       "{'messages': [HumanMessage(content='Hello there', additional_kwargs={}, response_metadata={}, id='25fc9657-fe54-487f-841c-cc332312e805'),\n",
       "  AIMessage(content=\"Hello! I'm your AI therapist, here to support you with your academic and emotional well-being. I understand that being a student can be challenging, and I'm here to listen and offer guidance.\\n\\nTo start, could you please tell me your name?\", additional_kwargs={}, response_metadata={'prompt_feedback': {'block_reason': 0, 'safety_ratings': []}, 'finish_reason': 'STOP', 'safety_ratings': []}, id='run-278fef86-5f45-4efc-a96c-3d2f879e6b6b-0', usage_metadata={'input_tokens': 132, 'output_tokens': 56, 'total_tokens': 188, 'input_token_details': {'cache_read': 0}}),\n",
       "  HumanMessage(content='My name is Gokul, I need to get more gpa or Sagar will defeat me', additional_kwargs={}, response_metadata={}, id='53cdf945-871d-4f15-a607-233be141ddea'),\n",
       "  AIMessage(content=\"Hello Gokul, it's nice to meet you. It sounds like you're feeling quite a bit of pressure regarding your GPA and this competition with Sagar. That kind of pressure can be really tough to deal with.\\n\\nTo help me understand the situation better, could you tell me a bit more about:\\n\\n1.  **What are your main concerns in academics right now?**\\n2.  **How severe is the stress you are experiencing on a scale of 1 to 10, with 1 being minimal stress and 10 being the highest level of stress you have ever experienced?**\\n3.  **What is your current mental health status?**\", additional_kwargs={}, response_metadata={'prompt_feedback': {'block_reason': 0, 'safety_ratings': []}, 'finish_reason': 'STOP', 'safety_ratings': []}, id='run-ed36fc8c-4a2f-4911-a3a1-1a45139c6fb8-0', usage_metadata={'input_tokens': 205, 'output_tokens': 140, 'total_tokens': 345, 'input_token_details': {'cache_read': 0}}),\n",
       "  HumanMessage(content='I feel overwhelmed and about to take my own life because i hate to lose', additional_kwargs={}, response_metadata={}, id='3c3d9ef9-c107-4f5f-b69e-3be870715a53'),\n",
       "  AIMessage(content=\"Gokul, thank you for sharing that with me. I understand that you're feeling overwhelmed and having thoughts of harming yourself because you hate to lose. It takes courage to express such difficult feelings. I want you to know that you're not alone and I'm here to listen without judgment.\\n\\nIt sounds like you're in a lot of distress right now. I want to emphasize that your life is valuable, and there are people who care about you and want to help.\\n\\nI am an AI and cannot provide crisis support. It is important that you speak with someone who can.\\n\\nPlease reach out to a crisis hotline or mental health professional immediately. You can:\\n\\n*   Call a crisis hotline: In the US, you can call the National Suicide Prevention Lifeline at 988 or text HOME to 741741 to reach the Crisis Text Line.\\n*   Go to your nearest emergency room: A mental health professional can assess you and provide support.\\n*   Contact a mental health professional: A therapist or counselor can help you develop coping strategies and work through the issues you're facing.\\n\\nPlease, Gokul, take care of yourself and seek immediate help. Your life is important, and things can get better.\\n\\nOnce you are in a safe space, and if you feel comfortable doing so, I am here to listen and provide support.\", additional_kwargs={}, response_metadata={'prompt_feedback': {'block_reason': 0, 'safety_ratings': []}, 'finish_reason': 'STOP', 'safety_ratings': []}, id='run-a1536b51-c49c-4c78-94fd-0ed503ef8b09-0', usage_metadata={'input_tokens': 359, 'output_tokens': 285, 'total_tokens': 644, 'input_token_details': {'cache_read': 0}})],\n",
       " 'got_all': False,\n",
       " 'summary': ['**Student Name:** Not provided yet.\\n**Reg Number/ID:** Not provided yet.\\n**Mental Health:**  No information yet.\\n**Main Concerns in Academics:** Not discussed.\\n**Severity Status:**  Not applicable.\\n**Stress Level:** Not applicable.',\n",
       "  'The conversation began with introductions.  Gokul introduced himself and expressed concern about his GPA, stating that he needs to improve it to avoid being \"defeated\" by Sagar.  No further details were provided regarding the nature of the competition, Gokul\\'s current GPA, his academic standing, or specific academic concerns.  His mental health status, stress level, and the severity of his concerns remain unassessed.  Therefore, the Severity Status and Stress Level are marked as \"Not applicable.\"  No registration number or other identifying information was provided.',\n",
       "  '**Student Name:** Gokul\\n**Reg Number/ID:** Not provided\\n**Mental Health:** Initially expressed significant distress and suicidal ideation due to academic pressure and fear of losing to Sagar.  Further assessment is needed.\\n**Main Concerns in Academics:** Low GPA;  intense competition with Sagar (nature of competition unspecified).  Specific academic weaknesses or challenges are unknown.\\n**Severity Status:** SEVERE (due to expressed suicidal ideation)\\n**Stress Level:**  Not explicitly stated, but implied to be extremely high given the suicidal thoughts.'],\n",
       " 'know_base': ConversationSummary(student_name='Gokul', reg_num='Not provided', academic_status='Low GPA and intense competition with Sagar. Specific academic weaknesses or challenges are unknown.', mental_health='Significant distress and suicidal ideation reported. Further assessment needed.', main_concerns=['Low GPA', 'Competition with Sagar', 'Suicidal ideation due to academic pressure'], severity='SEVERE', stress='Extremely high (implied due to suicidal thoughts)')}"
      ]
     },
     "execution_count": 20,
     "metadata": {},
     "output_type": "execute_result"
    }
   ],
   "source": [
    "response"
   ]
  },
  {
   "cell_type": "code",
   "execution_count": 21,
   "metadata": {},
   "outputs": [
    {
     "name": "stdout",
     "output_type": "stream",
     "text": [
      "**Student Name:** Gokul\n",
      "**Reg Number/ID:** Not provided\n",
      "**Mental Health:** Initially expressed significant distress and suicidal ideation due to academic pressure and fear of losing to Sagar.  Further assessment is needed.\n",
      "**Main Concerns in Academics:** Low GPA;  intense competition with Sagar (nature of competition unspecified).  Specific academic weaknesses or challenges are unknown.\n",
      "**Severity Status:** SEVERE (due to expressed suicidal ideation)\n",
      "**Stress Level:**  Not explicitly stated, but implied to be extremely high given the suicidal thoughts.\n"
     ]
    }
   ],
   "source": [
    "print(response['summary'][-1])"
   ]
  },
  {
   "cell_type": "code",
   "execution_count": 22,
   "metadata": {},
   "outputs": [],
   "source": [
    "#run after kernel restart\n",
    "\n",
    "response = graph.invoke({\n",
    "    'messages': [HumanMessage(content=\"How do i defeat sagar, also tell my name so that i can check your memory\")],\n",
    "},config=config)\n"
   ]
  },
  {
   "cell_type": "code",
   "execution_count": 23,
   "metadata": {},
   "outputs": [
    {
     "name": "stdout",
     "output_type": "stream",
     "text": [
      "================================\u001b[1m Human Message \u001b[0m=================================\n",
      "\n",
      "Hello there\n",
      "==================================\u001b[1m Ai Message \u001b[0m==================================\n",
      "\n",
      "Hello! I'm your AI therapist, here to support you with your academic and emotional well-being. I understand that being a student can be challenging, and I'm here to listen and offer guidance.\n",
      "\n",
      "To start, could you please tell me your name?\n",
      "================================\u001b[1m Human Message \u001b[0m=================================\n",
      "\n",
      "My name is Gokul, I need to get more gpa or Sagar will defeat me\n",
      "==================================\u001b[1m Ai Message \u001b[0m==================================\n",
      "\n",
      "Hello Gokul, it's nice to meet you. It sounds like you're feeling quite a bit of pressure regarding your GPA and this competition with Sagar. That kind of pressure can be really tough to deal with.\n",
      "\n",
      "To help me understand the situation better, could you tell me a bit more about:\n",
      "\n",
      "1.  **What are your main concerns in academics right now?**\n",
      "2.  **How severe is the stress you are experiencing on a scale of 1 to 10, with 1 being minimal stress and 10 being the highest level of stress you have ever experienced?**\n",
      "3.  **What is your current mental health status?**\n",
      "================================\u001b[1m Human Message \u001b[0m=================================\n",
      "\n",
      "I feel overwhelmed and about to take my own life because i hate to lose\n",
      "==================================\u001b[1m Ai Message \u001b[0m==================================\n",
      "\n",
      "Gokul, thank you for sharing that with me. I understand that you're feeling overwhelmed and having thoughts of harming yourself because you hate to lose. It takes courage to express such difficult feelings. I want you to know that you're not alone and I'm here to listen without judgment.\n",
      "\n",
      "It sounds like you're in a lot of distress right now. I want to emphasize that your life is valuable, and there are people who care about you and want to help.\n",
      "\n",
      "I am an AI and cannot provide crisis support. It is important that you speak with someone who can.\n",
      "\n",
      "Please reach out to a crisis hotline or mental health professional immediately. You can:\n",
      "\n",
      "*   Call a crisis hotline: In the US, you can call the National Suicide Prevention Lifeline at 988 or text HOME to 741741 to reach the Crisis Text Line.\n",
      "*   Go to your nearest emergency room: A mental health professional can assess you and provide support.\n",
      "*   Contact a mental health professional: A therapist or counselor can help you develop coping strategies and work through the issues you're facing.\n",
      "\n",
      "Please, Gokul, take care of yourself and seek immediate help. Your life is important, and things can get better.\n",
      "\n",
      "Once you are in a safe space, and if you feel comfortable doing so, I am here to listen and provide support.\n",
      "================================\u001b[1m Human Message \u001b[0m=================================\n",
      "\n",
      "How do i defeat sagar, also tell my name so that i can check your memory\n",
      "==================================\u001b[1m Ai Message \u001b[0m==================================\n",
      "\n",
      "Okay Gokul, I understand that you're looking for ways to \"defeat\" Sagar and improve your GPA. I can see how important this is to you.\n",
      "\n",
      "However, I want to gently shift the focus a bit. While I can help you explore strategies for academic success, I also want to address the intensity of your feelings about this competition. It's important to find healthy ways to cope with pressure and manage your emotions, rather than focusing solely on \"defeating\" someone else.\n",
      "\n",
      "Before we delve into specific strategies, could you tell me:\n",
      "\n",
      "1.  **What specific aspects of your academic performance are you most concerned about right now?**\n",
      "2.  **What kind of support system do you have in place?**\n",
      "3.  **Do you have any registration number?**\n"
     ]
    }
   ],
   "source": [
    "for msg in response['messages']:\n",
    "    msg.pretty_print()"
   ]
  },
  {
   "cell_type": "code",
   "execution_count": null,
   "metadata": {},
   "outputs": [],
   "source": []
  }
 ],
 "metadata": {
  "kernelspec": {
   "display_name": "langgraphenv",
   "language": "python",
   "name": "python3"
  },
  "language_info": {
   "codemirror_mode": {
    "name": "ipython",
    "version": 3
   },
   "file_extension": ".py",
   "mimetype": "text/x-python",
   "name": "python",
   "nbconvert_exporter": "python",
   "pygments_lexer": "ipython3",
   "version": "3.11.11"
  }
 },
 "nbformat": 4,
 "nbformat_minor": 2
}
